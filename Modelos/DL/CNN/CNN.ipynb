{
 "cells": [
  {
   "cell_type": "markdown",
   "metadata": {},
   "source": [
    "# Projeto de Aprendizagem Automática II"
   ]
  },
  {
   "cell_type": "markdown",
   "metadata": {},
   "source": [
    "## Procura de Exoplanetas no Espaço através da Emissão de Luz de Estrelas"
   ]
  },
  {
   "cell_type": "markdown",
   "metadata": {},
   "source": [
    "### Importação de Bibliotecas"
   ]
  },
  {
   "cell_type": "code",
   "execution_count": 54,
   "metadata": {},
   "outputs": [],
   "source": [
    "import pandas as pd\n",
    "import numpy as np\n",
    "from sklearn.model_selection import train_test_split\n",
    "from keras.utils.np_utils import to_categorical\n",
    "from keras.models import Model\n",
    "import keras.backend as K\n",
    "from keras.layers import *\n",
    "from keras.optimizers import Adam\n",
    "import matplotlib            \n",
    "import matplotlib.pyplot as plt"
   ]
  },
  {
   "cell_type": "markdown",
   "metadata": {},
   "source": [
    "### Carregamento dos Dados"
   ]
  },
  {
   "cell_type": "code",
   "execution_count": 2,
   "metadata": {},
   "outputs": [],
   "source": [
    "treino = pd.read_csv(\"../../../Dados/dados_treino.csv\")\n",
    "teste = pd.read_csv(\"../../../Dados/dados_teste.csv\")"
   ]
  },
  {
   "cell_type": "markdown",
   "metadata": {},
   "source": [
    "### Preparação para Treino e Teste"
   ]
  },
  {
   "cell_type": "markdown",
   "metadata": {},
   "source": [
    "O primeiro passo é a preparação dos dados para o tipo de rede que se está a criar. Assim, além da divisão entre atributos e labels, a variável de decisão deve ser categorizada. Além disso, tendo em conta o formato de entrada dos dados numa rede convolucional, os registos têm que estar no formato (altura, largura, profundidade). Tendo em conta que apenas se está a lidar com uma feature, sendo esta o valor de flux ao longo do tempo, ou seja, na visão de uma rede convolucional, esta está a lidar com imagens 1D, o formato gerado tem que ser (-1, sistemas, 1). "
   ]
  },
  {
   "cell_type": "code",
   "execution_count": 35,
   "metadata": {},
   "outputs": [],
   "source": [
    "Y = treino['LABEL']\n",
    "X = treino.loc[:, treino.columns != 'LABEL']\n",
    "X_train = X.values.reshape(-1, X.shape[1], 1)\n",
    "\n",
    "Yt = teste['LABEL']\n",
    "Xt = teste.loc[:, teste.columns != 'LABEL']\n",
    "X_test = Xt.values.reshape(-1, Xt.shape[1], 1)\n",
    "\n",
    "# One Hot Encoding\n",
    "y_train = to_categorical(Y.values)\n",
    "y_train = y_train[:, 1:]\n",
    "\n",
    "y_test = to_categorical(Yt.values)\n",
    "y_test = y_test[:, 1:]"
   ]
  },
  {
   "cell_type": "markdown",
   "metadata": {},
   "source": [
    "### Modelo"
   ]
  },
  {
   "cell_type": "markdown",
   "metadata": {},
   "source": [
    "No que toca ao modelo, a ideia passou por experimentar a *API* do módulo *Keras* para a modelação deste. Assim, numa fase inicial, o modelo segue o padrão camada convolucional 1D seguido por *Max pooling* e *batch normalization*. No que toca à fase que permite a classificação com o modelo, é aplicada uma camada de achatamento, seguida de um *dropout* e, em seguida, três camadas *Dense*, sendo que a última possui uma função de ativação *softmax* com dois nodos. Cada um destes nodos representa cada uma das possíveis classes do problema.   "
   ]
  },
  {
   "cell_type": "code",
   "execution_count": 81,
   "metadata": {},
   "outputs": [],
   "source": [
    "# Input: Colunas por registo, features\n",
    "X = Input(shape=(X_train.shape[1], 1))\n",
    "y = Conv1D(filters=16, kernel_size=16, activation='relu')(X)\n",
    "y = MaxPool1D()(y)\n",
    "y = BatchNormalization()(y)\n",
    "y = Flatten()(y)\n",
    "y = Dropout(0.25)(y)\n",
    "y = Dense(256, activation='relu')(y)\n",
    "y = Dense(32, activation=\"relu\")(y)\n",
    "classes = Dense(2, activation=\"softmax\")(y)"
   ]
  },
  {
   "cell_type": "markdown",
   "metadata": {},
   "source": [
    "É importante realçar a divisão do conjunto de treino em dois conjuntos: treino e validação, sendo o último utilizado como medida de validação do modelo."
   ]
  },
  {
   "cell_type": "code",
   "execution_count": 43,
   "metadata": {},
   "outputs": [],
   "source": [
    "train, validation, train_target, validation_target = train_test_split(X_train, y_train, test_size=0.2, random_state=1)"
   ]
  },
  {
   "cell_type": "markdown",
   "metadata": {},
   "source": [
    "A partir do modelo definido com a *API* mencionada, apenas é necessário indicar que a variável do modelo é a conversão da sequência para um modelo. No que toca ao otimizador do modelo foi utilizado *Adam*, com *learning rate* de 0.001. Além disso, foi definido um *checkpoint* em que este monitoriza a *accuracy* do conjunto de validação, armazenando os pesos do modelo no ponto em que esta métrica é máxima. "
   ]
  },
  {
   "cell_type": "code",
   "execution_count": 48,
   "metadata": {},
   "outputs": [],
   "source": [
    "from keras.models import load_model\n",
    "from keras.callbacks import ModelCheckpoint\n",
    "model = Model(inputs=X, outputs=classes)\n",
    "adam = Adam(lr=0.001)\n",
    "chk = ModelCheckpoint('best_model.pkl', monitor='val_accuracy', save_best_only=True, mode='max', verbose=1)\n",
    "model.compile(loss='binary_crossentropy', optimizer=adam, metrics=['accuracy'])"
   ]
  },
  {
   "cell_type": "markdown",
   "metadata": {},
   "source": [
    "Observando o sumário do modelo, são visíveis as camadas previamente definidas, bem como o formato dos seus outputs e número de parâmetros."
   ]
  },
  {
   "cell_type": "code",
   "execution_count": 49,
   "metadata": {
    "scrolled": false
   },
   "outputs": [
    {
     "name": "stdout",
     "output_type": "stream",
     "text": [
      "Model: \"model_7\"\n",
      "_________________________________________________________________\n",
      "Layer (type)                 Output Shape              Param #   \n",
      "=================================================================\n",
      "input_9 (InputLayer)         (None, 3198, 1)           0         \n",
      "_________________________________________________________________\n",
      "conv1d_13 (Conv1D)           (None, 3183, 16)          272       \n",
      "_________________________________________________________________\n",
      "max_pooling1d_10 (MaxPooling (None, 1591, 16)          0         \n",
      "_________________________________________________________________\n",
      "batch_normalization_10 (Batc (None, 1591, 16)          64        \n",
      "_________________________________________________________________\n",
      "flatten_6 (Flatten)          (None, 25456)             0         \n",
      "_________________________________________________________________\n",
      "dropout_6 (Dropout)          (None, 25456)             0         \n",
      "_________________________________________________________________\n",
      "dense_16 (Dense)             (None, 256)               6516992   \n",
      "_________________________________________________________________\n",
      "dense_17 (Dense)             (None, 32)                8224      \n",
      "_________________________________________________________________\n",
      "dense_18 (Dense)             (None, 2)                 66        \n",
      "=================================================================\n",
      "Total params: 6,525,618\n",
      "Trainable params: 6,525,586\n",
      "Non-trainable params: 32\n",
      "_________________________________________________________________\n"
     ]
    }
   ],
   "source": [
    "model.summary()"
   ]
  },
  {
   "cell_type": "markdown",
   "metadata": {},
   "source": [
    "Em seguida é apresentada uma visualização gráfica do modelo definido."
   ]
  },
  {
   "cell_type": "code",
   "execution_count": 50,
   "metadata": {
    "scrolled": false
   },
   "outputs": [
    {
     "data": {
      "image/svg+xml": [
       "<svg height=\"839pt\" viewBox=\"0.00 0.00 280.98 629.00\" width=\"375pt\" xmlns=\"http://www.w3.org/2000/svg\" xmlns:xlink=\"http://www.w3.org/1999/xlink\">\n",
       "<g class=\"graph\" id=\"graph0\" transform=\"scale(0.75 0.75) rotate(0) translate(4 625)\">\n",
       "<title>G</title>\n",
       "<polygon fill=\"white\" points=\"-4,4 -4,-625 276.98,-625 276.98,4 -4,4\" stroke=\"transparent\"/>\n",
       "<!-- 113069498512 -->\n",
       "<g class=\"node\" id=\"node1\">\n",
       "<title>113069498512</title>\n",
       "<polygon fill=\"none\" points=\"72.31,-584.5 72.31,-620.5 200.67,-620.5 200.67,-584.5 72.31,-584.5\" stroke=\"black\"/>\n",
       "<text font-family=\"Times,serif\" font-size=\"14.00\" text-anchor=\"middle\" x=\"136.49\" y=\"-598.3\">input_9: InputLayer</text>\n",
       "</g>\n",
       "<!-- 113069391504 -->\n",
       "<g class=\"node\" id=\"node2\">\n",
       "<title>113069391504</title>\n",
       "<polygon fill=\"none\" points=\"69.96,-511.5 69.96,-547.5 203.01,-547.5 203.01,-511.5 69.96,-511.5\" stroke=\"black\"/>\n",
       "<text font-family=\"Times,serif\" font-size=\"14.00\" text-anchor=\"middle\" x=\"136.49\" y=\"-525.3\">conv1d_13: Conv1D</text>\n",
       "</g>\n",
       "<!-- 113069498512&#45;&gt;113069391504 -->\n",
       "<g class=\"edge\" id=\"edge1\">\n",
       "<title>113069498512-&gt;113069391504</title>\n",
       "<path d=\"M136.49,-584.31C136.49,-576.29 136.49,-566.55 136.49,-557.57\" fill=\"none\" stroke=\"black\"/>\n",
       "<polygon fill=\"black\" points=\"139.99,-557.53 136.49,-547.53 132.99,-557.53 139.99,-557.53\" stroke=\"black\"/>\n",
       "</g>\n",
       "<!-- 113069391760 -->\n",
       "<g class=\"node\" id=\"node3\">\n",
       "<title>113069391760</title>\n",
       "<polygon fill=\"none\" points=\"27.18,-438.5 27.18,-474.5 245.79,-474.5 245.79,-438.5 27.18,-438.5\" stroke=\"black\"/>\n",
       "<text font-family=\"Times,serif\" font-size=\"14.00\" text-anchor=\"middle\" x=\"136.49\" y=\"-452.3\">max_pooling1d_10: MaxPooling1D</text>\n",
       "</g>\n",
       "<!-- 113069391504&#45;&gt;113069391760 -->\n",
       "<g class=\"edge\" id=\"edge2\">\n",
       "<title>113069391504-&gt;113069391760</title>\n",
       "<path d=\"M136.49,-511.31C136.49,-503.29 136.49,-493.55 136.49,-484.57\" fill=\"none\" stroke=\"black\"/>\n",
       "<polygon fill=\"black\" points=\"139.99,-484.53 136.49,-474.53 132.99,-484.53 139.99,-484.53\" stroke=\"black\"/>\n",
       "</g>\n",
       "<!-- 113069499536 -->\n",
       "<g class=\"node\" id=\"node4\">\n",
       "<title>113069499536</title>\n",
       "<polygon fill=\"none\" points=\"0,-365.5 0,-401.5 272.98,-401.5 272.98,-365.5 0,-365.5\" stroke=\"black\"/>\n",
       "<text font-family=\"Times,serif\" font-size=\"14.00\" text-anchor=\"middle\" x=\"136.49\" y=\"-379.3\">batch_normalization_10: BatchNormalization</text>\n",
       "</g>\n",
       "<!-- 113069391760&#45;&gt;113069499536 -->\n",
       "<g class=\"edge\" id=\"edge3\">\n",
       "<title>113069391760-&gt;113069499536</title>\n",
       "<path d=\"M136.49,-438.31C136.49,-430.29 136.49,-420.55 136.49,-411.57\" fill=\"none\" stroke=\"black\"/>\n",
       "<polygon fill=\"black\" points=\"139.99,-411.53 136.49,-401.53 132.99,-411.53 139.99,-411.53\" stroke=\"black\"/>\n",
       "</g>\n",
       "<!-- 113066484560 -->\n",
       "<g class=\"node\" id=\"node5\">\n",
       "<title>113066484560</title>\n",
       "<polygon fill=\"none\" points=\"80.86,-292.5 80.86,-328.5 192.12,-328.5 192.12,-292.5 80.86,-292.5\" stroke=\"black\"/>\n",
       "<text font-family=\"Times,serif\" font-size=\"14.00\" text-anchor=\"middle\" x=\"136.49\" y=\"-306.3\">flatten_6: Flatten</text>\n",
       "</g>\n",
       "<!-- 113069499536&#45;&gt;113066484560 -->\n",
       "<g class=\"edge\" id=\"edge4\">\n",
       "<title>113069499536-&gt;113066484560</title>\n",
       "<path d=\"M136.49,-365.31C136.49,-357.29 136.49,-347.55 136.49,-338.57\" fill=\"none\" stroke=\"black\"/>\n",
       "<polygon fill=\"black\" points=\"139.99,-338.53 136.49,-328.53 132.99,-338.53 139.99,-338.53\" stroke=\"black\"/>\n",
       "</g>\n",
       "<!-- 113069502160 -->\n",
       "<g class=\"node\" id=\"node6\">\n",
       "<title>113069502160</title>\n",
       "<polygon fill=\"none\" points=\"72.69,-219.5 72.69,-255.5 200.29,-255.5 200.29,-219.5 72.69,-219.5\" stroke=\"black\"/>\n",
       "<text font-family=\"Times,serif\" font-size=\"14.00\" text-anchor=\"middle\" x=\"136.49\" y=\"-233.3\">dropout_6: Dropout</text>\n",
       "</g>\n",
       "<!-- 113066484560&#45;&gt;113069502160 -->\n",
       "<g class=\"edge\" id=\"edge5\">\n",
       "<title>113066484560-&gt;113069502160</title>\n",
       "<path d=\"M136.49,-292.31C136.49,-284.29 136.49,-274.55 136.49,-265.57\" fill=\"none\" stroke=\"black\"/>\n",
       "<polygon fill=\"black\" points=\"139.99,-265.53 136.49,-255.53 132.99,-265.53 139.99,-265.53\" stroke=\"black\"/>\n",
       "</g>\n",
       "<!-- 113069502032 -->\n",
       "<g class=\"node\" id=\"node7\">\n",
       "<title>113069502032</title>\n",
       "<polygon fill=\"none\" points=\"80.86,-146.5 80.86,-182.5 192.11,-182.5 192.11,-146.5 80.86,-146.5\" stroke=\"black\"/>\n",
       "<text font-family=\"Times,serif\" font-size=\"14.00\" text-anchor=\"middle\" x=\"136.49\" y=\"-160.3\">dense_16: Dense</text>\n",
       "</g>\n",
       "<!-- 113069502160&#45;&gt;113069502032 -->\n",
       "<g class=\"edge\" id=\"edge6\">\n",
       "<title>113069502160-&gt;113069502032</title>\n",
       "<path d=\"M136.49,-219.31C136.49,-211.29 136.49,-201.55 136.49,-192.57\" fill=\"none\" stroke=\"black\"/>\n",
       "<polygon fill=\"black\" points=\"139.99,-192.53 136.49,-182.53 132.99,-192.53 139.99,-192.53\" stroke=\"black\"/>\n",
       "</g>\n",
       "<!-- 113084525456 -->\n",
       "<g class=\"node\" id=\"node8\">\n",
       "<title>113084525456</title>\n",
       "<polygon fill=\"none\" points=\"80.86,-73.5 80.86,-109.5 192.11,-109.5 192.11,-73.5 80.86,-73.5\" stroke=\"black\"/>\n",
       "<text font-family=\"Times,serif\" font-size=\"14.00\" text-anchor=\"middle\" x=\"136.49\" y=\"-87.3\">dense_17: Dense</text>\n",
       "</g>\n",
       "<!-- 113069502032&#45;&gt;113084525456 -->\n",
       "<g class=\"edge\" id=\"edge7\">\n",
       "<title>113069502032-&gt;113084525456</title>\n",
       "<path d=\"M136.49,-146.31C136.49,-138.29 136.49,-128.55 136.49,-119.57\" fill=\"none\" stroke=\"black\"/>\n",
       "<polygon fill=\"black\" points=\"139.99,-119.53 136.49,-109.53 132.99,-119.53 139.99,-119.53\" stroke=\"black\"/>\n",
       "</g>\n",
       "<!-- 113085386640 -->\n",
       "<g class=\"node\" id=\"node9\">\n",
       "<title>113085386640</title>\n",
       "<polygon fill=\"none\" points=\"80.86,-0.5 80.86,-36.5 192.11,-36.5 192.11,-0.5 80.86,-0.5\" stroke=\"black\"/>\n",
       "<text font-family=\"Times,serif\" font-size=\"14.00\" text-anchor=\"middle\" x=\"136.49\" y=\"-14.3\">dense_18: Dense</text>\n",
       "</g>\n",
       "<!-- 113084525456&#45;&gt;113085386640 -->\n",
       "<g class=\"edge\" id=\"edge8\">\n",
       "<title>113084525456-&gt;113085386640</title>\n",
       "<path d=\"M136.49,-73.31C136.49,-65.29 136.49,-55.55 136.49,-46.57\" fill=\"none\" stroke=\"black\"/>\n",
       "<polygon fill=\"black\" points=\"139.99,-46.53 136.49,-36.53 132.99,-46.53 139.99,-46.53\" stroke=\"black\"/>\n",
       "</g>\n",
       "</g>\n",
       "</svg>"
      ],
      "text/plain": [
       "<IPython.core.display.SVG object>"
      ]
     },
     "execution_count": 50,
     "metadata": {},
     "output_type": "execute_result"
    }
   ],
   "source": [
    "import keras\n",
    "import pydot as pyd\n",
    "from IPython.display import SVG\n",
    "from keras.utils.vis_utils import model_to_dot\n",
    "\n",
    "keras.utils.vis_utils.pydot = pyd\n",
    "\n",
    "#Visualize Model\n",
    "def visualize_model(model):\n",
    "  return SVG(model_to_dot(model).create(prog='dot', format='svg'))\n",
    "\n",
    "visualize_model(model)"
   ]
  },
  {
   "cell_type": "markdown",
   "metadata": {},
   "source": [
    "### Treino"
   ]
  },
  {
   "cell_type": "markdown",
   "metadata": {},
   "source": [
    "De modo a permitir a visualização da evolução das métricas ao longo do tempo, foi guardado um histórico dos vários valores das mesmas."
   ]
  },
  {
   "cell_type": "code",
   "execution_count": 51,
   "metadata": {
    "scrolled": false
   },
   "outputs": [
    {
     "name": "stdout",
     "output_type": "stream",
     "text": [
      "Train on 5252 samples, validate on 1313 samples\n",
      "Epoch 1/10\n",
      "5252/5252 [==============================] - 33s 6ms/step - loss: 3.5636 - accuracy: 0.7683 - val_loss: 3.4670 - val_accuracy: 0.7746\n",
      "\n",
      "Epoch 00001: val_accuracy improved from -inf to 0.77456, saving model to best_model.pkl\n",
      "Epoch 2/10\n",
      "5252/5252 [==============================] - 31s 6ms/step - loss: 2.1164 - accuracy: 0.8353 - val_loss: 0.3988 - val_accuracy: 0.9421\n",
      "\n",
      "Epoch 00002: val_accuracy improved from 0.77456 to 0.94212, saving model to best_model.pkl\n",
      "Epoch 3/10\n",
      "5252/5252 [==============================] - 31s 6ms/step - loss: 0.0838 - accuracy: 0.9804 - val_loss: 0.0453 - val_accuracy: 0.9886\n",
      "\n",
      "Epoch 00003: val_accuracy improved from 0.94212 to 0.98858, saving model to best_model.pkl\n",
      "Epoch 4/10\n",
      "5252/5252 [==============================] - 30s 6ms/step - loss: 0.0173 - accuracy: 0.9968 - val_loss: 0.0353 - val_accuracy: 0.9939\n",
      "\n",
      "Epoch 00004: val_accuracy improved from 0.98858 to 0.99391, saving model to best_model.pkl\n",
      "Epoch 5/10\n",
      "5252/5252 [==============================] - 31s 6ms/step - loss: 0.0135 - accuracy: 0.9977 - val_loss: 0.0310 - val_accuracy: 0.9947\n",
      "\n",
      "Epoch 00005: val_accuracy improved from 0.99391 to 0.99467, saving model to best_model.pkl\n",
      "Epoch 6/10\n",
      "5252/5252 [==============================] - 31s 6ms/step - loss: 0.0117 - accuracy: 0.9987 - val_loss: 0.0296 - val_accuracy: 0.9962\n",
      "\n",
      "Epoch 00006: val_accuracy improved from 0.99467 to 0.99619, saving model to best_model.pkl\n",
      "Epoch 7/10\n",
      "5252/5252 [==============================] - 30s 6ms/step - loss: 0.0116 - accuracy: 0.9987 - val_loss: 0.0272 - val_accuracy: 0.9962\n",
      "\n",
      "Epoch 00007: val_accuracy did not improve from 0.99619\n",
      "Epoch 8/10\n",
      "5252/5252 [==============================] - 32s 6ms/step - loss: 0.0139 - accuracy: 0.9983 - val_loss: 0.0035 - val_accuracy: 0.9977\n",
      "\n",
      "Epoch 00008: val_accuracy improved from 0.99619 to 0.99772, saving model to best_model.pkl\n",
      "Epoch 9/10\n",
      "5252/5252 [==============================] - 31s 6ms/step - loss: 0.0022 - accuracy: 0.9992 - val_loss: 0.0052 - val_accuracy: 0.9977\n",
      "\n",
      "Epoch 00009: val_accuracy did not improve from 0.99772\n",
      "Epoch 10/10\n",
      "5252/5252 [==============================] - 30s 6ms/step - loss: 0.0024 - accuracy: 0.9994 - val_loss: 0.0019 - val_accuracy: 0.9985\n",
      "\n",
      "Epoch 00010: val_accuracy improved from 0.99772 to 0.99848, saving model to best_model.pkl\n"
     ]
    }
   ],
   "source": [
    "history = model.fit(train, train_target, batch_size=128, epochs=10, shuffle=True, callbacks=[chk], validation_data=(validation, validation_target))"
   ]
  },
  {
   "cell_type": "markdown",
   "metadata": {},
   "source": [
    "De modo a visualizar a evolução das métricas ao longo do tempo, foi definida uma função que recebe a variável de histórico do treino, o nome da métrica no conjunto de treino e no de validação. Tendo estes valores, a função devolve a representação gráfica da evolução das métricas."
   ]
  },
  {
   "cell_type": "code",
   "execution_count": 55,
   "metadata": {},
   "outputs": [],
   "source": [
    "def show_train_history(train_history,train,validation):\n",
    "    plt.figure(figsize=(12,8))\n",
    "    plt.plot(train_history.history[train])\n",
    "    plt.plot(train_history.history[validation])\n",
    "    plt.title('Train History')\n",
    "    plt.ylabel(train)\n",
    "    plt.xlabel('Epoch')\n",
    "    plt.legend(['train', 'validation'], loc='best')\n",
    "    plt.show()"
   ]
  },
  {
   "cell_type": "markdown",
   "metadata": {},
   "source": [
    "No que toca às métricas de *accuracy*, é visível que são bastante altas, como seria de esperar pelo enorme número de registos de sistemas sem exoplanetas. Come se pode ver ainda, a curva apresenta um comportamento normal, mostrando que aparentemente o modelo aprendeu corretamente as caraterísticas de ambas as classes."
   ]
  },
  {
   "cell_type": "code",
   "execution_count": 56,
   "metadata": {},
   "outputs": [
    {
     "data": {
      "image/png": "[encoded data removed]",
      "text/plain": [
       "<Figure size 864x576 with 1 Axes>"
      ]
     },
     "metadata": {
      "needs_background": "light"
     },
     "output_type": "display_data"
    }
   ],
   "source": [
    "show_train_history(history,'accuracy','val_accuracy')"
   ]
  },
  {
   "cell_type": "markdown",
   "metadata": {},
   "source": [
    "Já no que toca à curva da loss, é notório que o valor desce de forma adequada à medida que o treino é efetuado, não apresentando sinais de *overfitting*."
   ]
  },
  {
   "cell_type": "code",
   "execution_count": 57,
   "metadata": {
    "scrolled": false
   },
   "outputs": [
    {
     "data": {
      "image/png": "[encoded data removed]",
      "text/plain": [
       "<Figure size 864x576 with 1 Axes>"
      ]
     },
     "metadata": {
      "needs_background": "light"
     },
     "output_type": "display_data"
    }
   ],
   "source": [
    "show_train_history(history,'loss','val_loss')"
   ]
  },
  {
   "cell_type": "markdown",
   "metadata": {},
   "source": [
    "### Teste"
   ]
  },
  {
   "cell_type": "markdown",
   "metadata": {},
   "source": [
    "Para testar o modelo treinado, é necessário carregar o modelo guardado como melhor modelo durante o treino."
   ]
  },
  {
   "cell_type": "code",
   "execution_count": 58,
   "metadata": {},
   "outputs": [],
   "source": [
    "model = load_model('best_model.pkl')"
   ]
  },
  {
   "cell_type": "markdown",
   "metadata": {},
   "source": [
    "Assim, é necessário aplicar o método de predição do modelo aos dados de teste. Note-se que como foi utilizada a *API* do módulo *Keras*, não é possível utilizar o método *predict_classes* como no caso do modelo com *LSTM*. Assim, foi aplicada o método *predict* *standard*, seguido de uma operação em que se selecionava uma classe consoante o valor probabilístico da mesma. É, também, importante mencionar que os resultados são categorizados para fácil comparação com os valores reais."
   ]
  },
  {
   "cell_type": "code",
   "execution_count": 78,
   "metadata": {},
   "outputs": [],
   "source": [
    "from sklearn.metrics import accuracy_score, classification_report\n",
    "test_preds = model.predict(X_test)\n",
    "test_preds = test_preds.argmax(axis=-1)\n",
    "test_preds = to_categorical(test_preds)"
   ]
  },
  {
   "cell_type": "markdown",
   "metadata": {},
   "source": [
    "Observando as métricas, é possível observar que a métrica de precisão na classe minoritária é 0.67 e o recall 0.8. Além disso, a precisão geral do modelo para o conjunto de teste é de 99.47%, tratando-se de um modelo com bastante potencial."
   ]
  },
  {
   "cell_type": "code",
   "execution_count": 79,
   "metadata": {},
   "outputs": [
    {
     "name": "stdout",
     "output_type": "stream",
     "text": [
      "              precision    recall  f1-score   support\n",
      "\n",
      "           0       1.00      1.00      1.00       565\n",
      "           1       0.67      0.80      0.73         5\n",
      "\n",
      "   micro avg       0.99      0.99      0.99       570\n",
      "   macro avg       0.83      0.90      0.86       570\n",
      "weighted avg       1.00      0.99      0.99       570\n",
      " samples avg       0.99      0.99      0.99       570\n",
      "\n"
     ]
    },
    {
     "data": {
      "text/plain": [
       "0.9947368421052631"
      ]
     },
     "execution_count": 79,
     "metadata": {},
     "output_type": "execute_result"
    }
   ],
   "source": [
    "print(classification_report(y_test, test_preds))\n",
    "accuracy_score(y_test, test_preds)"
   ]
  },
  {
   "cell_type": "markdown",
   "metadata": {},
   "source": [
    "Pela análise das matrizes de confusão de ambas as classes, é visível que o modelo classificou corretamente 4 dos 5 sistemas com exoplanetas. É, também, importante mencionar que classificou como possuindo exoplanetas 2 sistemas de forma errada. Apesar destas falhas, este tipo de rede mostra um potencial elevado, pelo que deve ser explorada em mais detalhe."
   ]
  },
  {
   "cell_type": "code",
   "execution_count": 80,
   "metadata": {},
   "outputs": [
    {
     "data": {
      "text/plain": [
       "array([[[  4,   1],\n",
       "        [  2, 563]],\n",
       "\n",
       "       [[563,   2],\n",
       "        [  1,   4]]])"
      ]
     },
     "execution_count": 80,
     "metadata": {},
     "output_type": "execute_result"
    }
   ],
   "source": [
    "from sklearn.metrics import multilabel_confusion_matrix\n",
    "multilabel_confusion_matrix(y_test, test_preds)"
   ]
  },
  {
   "cell_type": "code",
   "execution_count": null,
   "metadata": {},
   "outputs": [],
   "source": []
  }
 ],
 "metadata": {
  "kernelspec": {
   "display_name": "Python 3",
   "language": "python",
   "name": "python3"
  },
  "language_info": {
   "codemirror_mode": {
    "name": "ipython",
    "version": 3
   },
   "file_extension": ".py",
   "mimetype": "text/x-python",
   "name": "python",
   "nbconvert_exporter": "python",
   "pygments_lexer": "ipython3",
   "version": "3.7.4"
  }
 },
 "nbformat": 4,
 "nbformat_minor": 2
}
