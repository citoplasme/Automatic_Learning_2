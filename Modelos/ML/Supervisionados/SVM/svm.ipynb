{
 "cells": [
  {
   "cell_type": "markdown",
   "metadata": {},
   "source": [
    "# Projeto de Aprendizagem Automática II"
   ]
  },
  {
   "cell_type": "markdown",
   "metadata": {},
   "source": [
    "## Procura de Exoplanetas no Espaço através da Emissão de Luz de Estrelas"
   ]
  },
  {
   "cell_type": "markdown",
   "metadata": {},
   "source": [
    "### Importação de Bibliotecas"
   ]
  },
  {
   "cell_type": "code",
   "execution_count": 2,
   "metadata": {},
   "outputs": [],
   "source": [
    "import pandas as pd\n",
    "import numpy as np\n",
    "import seaborn as sns"
   ]
  },
  {
   "cell_type": "markdown",
   "metadata": {},
   "source": [
    "### Carregamento dos Dados"
   ]
  },
  {
   "cell_type": "code",
   "execution_count": 13,
   "metadata": {},
   "outputs": [],
   "source": [
    "treino = pd.read_csv(\"../../../../Dados/dados_treino.csv\")"
   ]
  },
  {
   "cell_type": "code",
   "execution_count": 14,
   "metadata": {},
   "outputs": [],
   "source": [
    "teste = pd.read_csv(\"../../../../Dados/dados_teste.csv\")"
   ]
  },
  {
   "cell_type": "markdown",
   "metadata": {},
   "source": [
    "Em seguida é possível confirmar o carregamento dos dados a partir dos ficheiros."
   ]
  },
  {
   "cell_type": "code",
   "execution_count": 15,
   "metadata": {},
   "outputs": [
    {
     "data": {
      "text/html": [
       "<div>\n",
       "<style scoped>\n",
       "    .dataframe tbody tr th:only-of-type {\n",
       "        vertical-align: middle;\n",
       "    }\n",
       "\n",
       "    .dataframe tbody tr th {\n",
       "        vertical-align: top;\n",
       "    }\n",
       "\n",
       "    .dataframe thead th {\n",
       "        text-align: right;\n",
       "    }\n",
       "</style>\n",
       "<table border=\"1\" class=\"dataframe\">\n",
       "  <thead>\n",
       "    <tr style=\"text-align: right;\">\n",
       "      <th></th>\n",
       "      <th>Unnamed: 0</th>\n",
       "      <th>LABEL</th>\n",
       "      <th>FLUX.0</th>\n",
       "      <th>FLUX.1</th>\n",
       "      <th>FLUX.2</th>\n",
       "      <th>FLUX.3</th>\n",
       "      <th>FLUX.4</th>\n",
       "      <th>FLUX.5</th>\n",
       "      <th>FLUX.6</th>\n",
       "      <th>FLUX.7</th>\n",
       "      <th>...</th>\n",
       "      <th>FLUX.3187</th>\n",
       "      <th>FLUX.3188</th>\n",
       "      <th>FLUX.3189</th>\n",
       "      <th>FLUX.3190</th>\n",
       "      <th>FLUX.3191</th>\n",
       "      <th>FLUX.3192</th>\n",
       "      <th>FLUX.3193</th>\n",
       "      <th>FLUX.3194</th>\n",
       "      <th>FLUX.3195</th>\n",
       "      <th>FLUX.3196</th>\n",
       "    </tr>\n",
       "  </thead>\n",
       "  <tbody>\n",
       "    <tr>\n",
       "      <td>0</td>\n",
       "      <td>0</td>\n",
       "      <td>2</td>\n",
       "      <td>6.643575e-13</td>\n",
       "      <td>22.044950</td>\n",
       "      <td>346.424723</td>\n",
       "      <td>329.505904</td>\n",
       "      <td>1249.205479</td>\n",
       "      <td>182.654094</td>\n",
       "      <td>156.148092</td>\n",
       "      <td>103.977575</td>\n",
       "      <td>...</td>\n",
       "      <td>18.621552</td>\n",
       "      <td>159.049411</td>\n",
       "      <td>179.291372</td>\n",
       "      <td>103.977575</td>\n",
       "      <td>156.148092</td>\n",
       "      <td>182.654094</td>\n",
       "      <td>1249.205479</td>\n",
       "      <td>329.505904</td>\n",
       "      <td>346.424723</td>\n",
       "      <td>22.044950</td>\n",
       "    </tr>\n",
       "    <tr>\n",
       "      <td>1</td>\n",
       "      <td>1</td>\n",
       "      <td>2</td>\n",
       "      <td>5.324630e-13</td>\n",
       "      <td>315.058647</td>\n",
       "      <td>383.889750</td>\n",
       "      <td>399.050802</td>\n",
       "      <td>230.319773</td>\n",
       "      <td>346.075420</td>\n",
       "      <td>288.386248</td>\n",
       "      <td>123.347240</td>\n",
       "      <td>...</td>\n",
       "      <td>123.052404</td>\n",
       "      <td>147.877047</td>\n",
       "      <td>145.587727</td>\n",
       "      <td>123.347240</td>\n",
       "      <td>288.386248</td>\n",
       "      <td>346.075420</td>\n",
       "      <td>230.319773</td>\n",
       "      <td>399.050802</td>\n",
       "      <td>383.889750</td>\n",
       "      <td>315.058647</td>\n",
       "    </tr>\n",
       "    <tr>\n",
       "      <td>2</td>\n",
       "      <td>2</td>\n",
       "      <td>2</td>\n",
       "      <td>1.023182e-12</td>\n",
       "      <td>509.559899</td>\n",
       "      <td>148.713545</td>\n",
       "      <td>1298.642815</td>\n",
       "      <td>369.249675</td>\n",
       "      <td>672.540546</td>\n",
       "      <td>437.844536</td>\n",
       "      <td>295.045615</td>\n",
       "      <td>...</td>\n",
       "      <td>172.991190</td>\n",
       "      <td>354.523387</td>\n",
       "      <td>80.108584</td>\n",
       "      <td>295.045615</td>\n",
       "      <td>437.844536</td>\n",
       "      <td>672.540546</td>\n",
       "      <td>369.249675</td>\n",
       "      <td>1298.642815</td>\n",
       "      <td>148.713545</td>\n",
       "      <td>509.559899</td>\n",
       "    </tr>\n",
       "    <tr>\n",
       "      <td>3</td>\n",
       "      <td>3</td>\n",
       "      <td>2</td>\n",
       "      <td>7.638334e-14</td>\n",
       "      <td>119.852075</td>\n",
       "      <td>322.695474</td>\n",
       "      <td>668.866524</td>\n",
       "      <td>622.837768</td>\n",
       "      <td>1667.042377</td>\n",
       "      <td>479.142131</td>\n",
       "      <td>440.907070</td>\n",
       "      <td>...</td>\n",
       "      <td>165.281958</td>\n",
       "      <td>206.266502</td>\n",
       "      <td>339.671264</td>\n",
       "      <td>440.907070</td>\n",
       "      <td>479.142131</td>\n",
       "      <td>1667.042377</td>\n",
       "      <td>622.837768</td>\n",
       "      <td>668.866524</td>\n",
       "      <td>322.695474</td>\n",
       "      <td>119.852075</td>\n",
       "    </tr>\n",
       "    <tr>\n",
       "      <td>4</td>\n",
       "      <td>4</td>\n",
       "      <td>2</td>\n",
       "      <td>4.218847e-13</td>\n",
       "      <td>762.580219</td>\n",
       "      <td>344.996007</td>\n",
       "      <td>984.287978</td>\n",
       "      <td>997.920915</td>\n",
       "      <td>697.225208</td>\n",
       "      <td>783.809909</td>\n",
       "      <td>194.429858</td>\n",
       "      <td>...</td>\n",
       "      <td>33.054354</td>\n",
       "      <td>465.804574</td>\n",
       "      <td>244.741924</td>\n",
       "      <td>194.429858</td>\n",
       "      <td>783.809909</td>\n",
       "      <td>697.225208</td>\n",
       "      <td>997.920915</td>\n",
       "      <td>984.287978</td>\n",
       "      <td>344.996007</td>\n",
       "      <td>762.580219</td>\n",
       "    </tr>\n",
       "  </tbody>\n",
       "</table>\n",
       "<p>5 rows × 3199 columns</p>\n",
       "</div>"
      ],
      "text/plain": [
       "   Unnamed: 0  LABEL        FLUX.0      FLUX.1      FLUX.2       FLUX.3  \\\n",
       "0           0      2  6.643575e-13   22.044950  346.424723   329.505904   \n",
       "1           1      2  5.324630e-13  315.058647  383.889750   399.050802   \n",
       "2           2      2  1.023182e-12  509.559899  148.713545  1298.642815   \n",
       "3           3      2  7.638334e-14  119.852075  322.695474   668.866524   \n",
       "4           4      2  4.218847e-13  762.580219  344.996007   984.287978   \n",
       "\n",
       "        FLUX.4       FLUX.5      FLUX.6      FLUX.7  ...   FLUX.3187  \\\n",
       "0  1249.205479   182.654094  156.148092  103.977575  ...   18.621552   \n",
       "1   230.319773   346.075420  288.386248  123.347240  ...  123.052404   \n",
       "2   369.249675   672.540546  437.844536  295.045615  ...  172.991190   \n",
       "3   622.837768  1667.042377  479.142131  440.907070  ...  165.281958   \n",
       "4   997.920915   697.225208  783.809909  194.429858  ...   33.054354   \n",
       "\n",
       "    FLUX.3188   FLUX.3189   FLUX.3190   FLUX.3191    FLUX.3192    FLUX.3193  \\\n",
       "0  159.049411  179.291372  103.977575  156.148092   182.654094  1249.205479   \n",
       "1  147.877047  145.587727  123.347240  288.386248   346.075420   230.319773   \n",
       "2  354.523387   80.108584  295.045615  437.844536   672.540546   369.249675   \n",
       "3  206.266502  339.671264  440.907070  479.142131  1667.042377   622.837768   \n",
       "4  465.804574  244.741924  194.429858  783.809909   697.225208   997.920915   \n",
       "\n",
       "     FLUX.3194   FLUX.3195   FLUX.3196  \n",
       "0   329.505904  346.424723   22.044950  \n",
       "1   399.050802  383.889750  315.058647  \n",
       "2  1298.642815  148.713545  509.559899  \n",
       "3   668.866524  322.695474  119.852075  \n",
       "4   984.287978  344.996007  762.580219  \n",
       "\n",
       "[5 rows x 3199 columns]"
      ]
     },
     "execution_count": 15,
     "metadata": {},
     "output_type": "execute_result"
    }
   ],
   "source": [
    "treino.head()"
   ]
  },
  {
   "cell_type": "markdown",
   "metadata": {},
   "source": [
    "O primeiro passo para testar os modelos é dividir os mesmos em variável de resposta e atributos."
   ]
  },
  {
   "cell_type": "code",
   "execution_count": 22,
   "metadata": {},
   "outputs": [],
   "source": [
    "X_train = treino.loc[:, treino.columns != 'LABEL'].values\n",
    "y_train = treino.LABEL.values\n",
    "\n",
    "X_test = teste.loc[:, teste.columns != 'LABEL'].values\n",
    "y_test = teste.LABEL.values"
   ]
  },
  {
   "cell_type": "markdown",
   "metadata": {},
   "source": [
    "### SVM"
   ]
  },
  {
   "cell_type": "markdown",
   "metadata": {},
   "source": [
    "Em seguida deve ser feito um teste com os registos completos, ou seja, sem aplicar algum algoritmo de PCA. "
   ]
  },
  {
   "cell_type": "code",
   "execution_count": 23,
   "metadata": {
    "scrolled": true
   },
   "outputs": [
    {
     "data": {
      "text/plain": [
       "SVC(C=1.0, cache_size=200, class_weight=None, coef0=0.0,\n",
       "    decision_function_shape='ovr', degree=3, gamma='auto_deprecated',\n",
       "    kernel='linear', max_iter=-1, probability=False, random_state=None,\n",
       "    shrinking=True, tol=0.001, verbose=False)"
      ]
     },
     "execution_count": 23,
     "metadata": {},
     "output_type": "execute_result"
    }
   ],
   "source": [
    "from sklearn.svm import SVC\n",
    "clf = SVC(kernel=\"linear\")\n",
    "clf.fit(X_train,y_train)"
   ]
  },
  {
   "cell_type": "markdown",
   "metadata": {},
   "source": [
    "Tendo o modelo treinado, é necessário prever os resultados do conjunto de treino. Assim, é possível observar se este modelo permite melhorias no que toca à classificação correta dos dados."
   ]
  },
  {
   "cell_type": "code",
   "execution_count": 24,
   "metadata": {
    "scrolled": false
   },
   "outputs": [
    {
     "name": "stdout",
     "output_type": "stream",
     "text": [
      "              precision    recall  f1-score   support\n",
      "\n",
      "           1       1.00      0.99      0.99       565\n",
      "           2       0.43      0.60      0.50         5\n",
      "\n",
      "    accuracy                           0.99       570\n",
      "   macro avg       0.71      0.80      0.75       570\n",
      "weighted avg       0.99      0.99      0.99       570\n",
      "\n",
      "accuracy: 0.9894736842105263\n"
     ]
    }
   ],
   "source": [
    "from sklearn import metrics\n",
    "y_pred = clf.predict(X_test)\n",
    "print(metrics.classification_report(y_test, y_pred))\n",
    "print(\"accuracy:\", metrics.accuracy_score(y_test, y_pred))"
   ]
  },
  {
   "cell_type": "markdown",
   "metadata": {},
   "source": [
    "Como se pode observar pelas métricas em cima e pela matriz de confusão em seguida, a precisão na classificação da classe minoritária aumentou, tal como o *recall*, sendo este um algoritmo melhor do que o utilizado para testar o processamento de dados."
   ]
  },
  {
   "cell_type": "code",
   "execution_count": 26,
   "metadata": {
    "scrolled": true
   },
   "outputs": [
    {
     "name": "stdout",
     "output_type": "stream",
     "text": [
      "[[561   4]\n",
      " [  2   3]]\n"
     ]
    }
   ],
   "source": [
    "from sklearn.metrics import confusion_matrix\n",
    "print(confusion_matrix(y_test, y_pred))"
   ]
  },
  {
   "cell_type": "markdown",
   "metadata": {},
   "source": [
    "### PCA"
   ]
  },
  {
   "cell_type": "markdown",
   "metadata": {},
   "source": [
    "No contexto de análise de séries temporais com *Machine Learning*, é extremamente importante a utilização de PCA, permitindo uma redução no número de atributos em estudo. Desta forma, selecionando-se um mínimo de 90% da explicação da variável de resposta por parte dos atributos, pode ser testado o mesmo modelo com menos dados."
   ]
  },
  {
   "cell_type": "code",
   "execution_count": 27,
   "metadata": {},
   "outputs": [
    {
     "name": "stdout",
     "output_type": "stream",
     "text": [
      "the dimension of decomposed data is  125\n"
     ]
    }
   ],
   "source": [
    "from sklearn.decomposition import PCA\n",
    "pca = PCA(0.90, True, False)\n",
    "X_train = pca.fit_transform(X_train)\n",
    "X_test = pca.transform(X_test)\n",
    "print(\"the dimension of decomposed data is \", X_train.shape[1])"
   ]
  },
  {
   "cell_type": "markdown",
   "metadata": {},
   "source": [
    "Tenha-se, assim, o modelo de SVM com os novos dados."
   ]
  },
  {
   "cell_type": "code",
   "execution_count": 28,
   "metadata": {},
   "outputs": [
    {
     "data": {
      "text/plain": [
       "SVC(C=1.0, cache_size=200, class_weight=None, coef0=0.0,\n",
       "    decision_function_shape='ovr', degree=3, gamma='auto_deprecated',\n",
       "    kernel='linear', max_iter=-1, probability=False, random_state=None,\n",
       "    shrinking=True, tol=0.001, verbose=False)"
      ]
     },
     "execution_count": 28,
     "metadata": {},
     "output_type": "execute_result"
    }
   ],
   "source": [
    "from sklearn.svm import SVC\n",
    "clf = SVC(kernel=\"linear\")\n",
    "clf.fit(X_train,y_train)"
   ]
  },
  {
   "cell_type": "markdown",
   "metadata": {},
   "source": [
    "Testando o conjunto de teste, é visível um aumento na precisão da classificação de sistemas com exoplanetas. Além disso, o valor de *recall* manteve-se igual."
   ]
  },
  {
   "cell_type": "code",
   "execution_count": 29,
   "metadata": {},
   "outputs": [
    {
     "name": "stdout",
     "output_type": "stream",
     "text": [
      "              precision    recall  f1-score   support\n",
      "\n",
      "           1       1.00      1.00      1.00       565\n",
      "           2       0.60      0.60      0.60         5\n",
      "\n",
      "    accuracy                           0.99       570\n",
      "   macro avg       0.80      0.80      0.80       570\n",
      "weighted avg       0.99      0.99      0.99       570\n",
      "\n",
      "accuracy: 0.9929824561403509\n"
     ]
    }
   ],
   "source": [
    "from sklearn import metrics\n",
    "y_pred = clf.predict(X_test)\n",
    "print(metrics.classification_report(y_test, y_pred))\n",
    "print(\"accuracy:\", metrics.accuracy_score(y_test, y_pred))"
   ]
  },
  {
   "cell_type": "markdown",
   "metadata": {},
   "source": [
    "Comparando a matriz de confusão agora obtida com a anterior, é visível que foram corretamente classificados 3 sistemas com exoplanetas em ambos os casos. Neste caso houve uma diminuição nas classificações erradas, sendo que 2 sistemas tinham sido classificados como tendo exoplanetas quando não era o caso. "
   ]
  },
  {
   "cell_type": "code",
   "execution_count": 30,
   "metadata": {},
   "outputs": [
    {
     "name": "stdout",
     "output_type": "stream",
     "text": [
      "[[563   2]\n",
      " [  2   3]]\n"
     ]
    }
   ],
   "source": [
    "from sklearn.metrics import confusion_matrix\n",
    "print(confusion_matrix(y_test, y_pred))"
   ]
  },
  {
   "cell_type": "markdown",
   "metadata": {},
   "source": [
    "Assim, este algoritmo, aliado à análise de componentes principais mostrou possuir resultados bastante bons na classificações dos sistemas do problema, sendo que ainda existem aspetos que podem ser melhorados. Aspetos estes como a otimização de hiperparâmetros, numa tentativa de classificar corretamente os 5 sistemas com exoplanetas."
   ]
  },
  {
   "cell_type": "code",
   "execution_count": null,
   "metadata": {},
   "outputs": [],
   "source": []
  }
 ],
 "metadata": {
  "kernelspec": {
   "display_name": "Python 3",
   "language": "python",
   "name": "python3"
  },
  "language_info": {
   "codemirror_mode": {
    "name": "ipython",
    "version": 3
   },
   "file_extension": ".py",
   "mimetype": "text/x-python",
   "name": "python",
   "nbconvert_exporter": "python",
   "pygments_lexer": "ipython3",
   "version": "3.7.4"
  }
 },
 "nbformat": 4,
 "nbformat_minor": 2
}
