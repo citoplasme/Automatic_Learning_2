{
 "cells": [
  {
   "cell_type": "markdown",
   "metadata": {},
   "source": [
    "# Projeto de Aprendizagem Automática II"
   ]
  },
  {
   "cell_type": "markdown",
   "metadata": {},
   "source": [
    "## Procura de Exoplanetas no Espaço através da Emissão de Luz de Estrelas"
   ]
  },
  {
   "cell_type": "markdown",
   "metadata": {},
   "source": [
    "### Importação de Bibliotecas"
   ]
  },
  {
   "cell_type": "code",
   "execution_count": 1,
   "metadata": {},
   "outputs": [],
   "source": [
    "import pandas as pd \n",
    "import numpy as np  \n",
    "\n",
    "import matplotlib            \n",
    "import matplotlib.pyplot as plt\n",
    "\n",
    "import seaborn as sns        \n",
    "color = sns.color_palette()\n",
    "sns.set_style('darkgrid')\n",
    "\n",
    "import os\n",
    "\n",
    "from random import randint\n",
    "from scipy.stats import randint as sp_randint\n",
    "\n",
    "from time import time\n",
    "from datetime import datetime\n",
    "\n",
    "import sklearn               \n",
    "from sklearn import metrics\n",
    "from sklearn.tree import DecisionTreeClassifier\n",
    "from sklearn.ensemble import RandomForestClassifier, ExtraTreesClassifier\n",
    "from sklearn.model_selection import train_test_split, StratifiedShuffleSplit, RandomizedSearchCV\n",
    "from sklearn.feature_selection import SelectKBest, VarianceThreshold, chi2\n",
    "\n",
    "from warnings import simplefilter\n",
    "\n",
    "%matplotlib inline\n",
    "simplefilter(action='ignore', category=FutureWarning)"
   ]
  },
  {
   "cell_type": "markdown",
   "metadata": {},
   "source": [
    "### Carregamento dos Dados"
   ]
  },
  {
   "cell_type": "markdown",
   "metadata": {},
   "source": [
    "O primeiro passo é o carregamento dos conjuntos de dados presentes em dois ficheiros distintos."
   ]
  },
  {
   "cell_type": "code",
   "execution_count": 2,
   "metadata": {},
   "outputs": [],
   "source": [
    "treino = pd.read_csv(\"../../../../Dados/dados_treino.csv\")\n",
    "teste = pd.read_csv(\"../../../../Dados/dados_teste.csv\")"
   ]
  },
  {
   "cell_type": "markdown",
   "metadata": {},
   "source": [
    "Em seguida, deve ser efetuada a divisão entre variáveis de decisão e atributos, permitindo o treino do modelo e teste dos vários registos."
   ]
  },
  {
   "cell_type": "code",
   "execution_count": 3,
   "metadata": {},
   "outputs": [],
   "source": [
    "X_train = treino.loc[:, treino.columns != 'LABEL'].values\n",
    "Y_train = treino.LABEL.values\n",
    "\n",
    "X_test = teste.loc[:, teste.columns != 'LABEL'].values\n",
    "Y_test = teste.LABEL.values"
   ]
  },
  {
   "cell_type": "markdown",
   "metadata": {},
   "source": [
    "### Modelo"
   ]
  },
  {
   "cell_type": "markdown",
   "metadata": {},
   "source": [
    "Tendo em conta a existência de 2 classes distintas, o número de *clusters* do modelo a treinar deve ser, também, 2. Assim, tirando proveito da biblioteca *sklearn*, é possível gerar um modelo de *KMeans Clustering* para o problema em estudo.  "
   ]
  },
  {
   "cell_type": "code",
   "execution_count": 4,
   "metadata": {},
   "outputs": [],
   "source": [
    "from sklearn.cluster import KMeans\n",
    "model = KMeans(n_clusters=2)"
   ]
  },
  {
   "cell_type": "markdown",
   "metadata": {},
   "source": [
    "Tendo o modelo definido, é necessário treinar o mesmo. Como se trata de um algoritmo não supervisionado, este apenas recebe as *features* dos dados."
   ]
  },
  {
   "cell_type": "code",
   "execution_count": 5,
   "metadata": {},
   "outputs": [
    {
     "data": {
      "text/plain": [
       "KMeans(algorithm='auto', copy_x=True, init='k-means++', max_iter=300,\n",
       "       n_clusters=2, n_init=10, n_jobs=None, precompute_distances='auto',\n",
       "       random_state=None, tol=0.0001, verbose=0)"
      ]
     },
     "execution_count": 5,
     "metadata": {},
     "output_type": "execute_result"
    }
   ],
   "source": [
    "model.fit(X_train)"
   ]
  },
  {
   "cell_type": "markdown",
   "metadata": {},
   "source": [
    "### Teste"
   ]
  },
  {
   "cell_type": "markdown",
   "metadata": {},
   "source": [
    "De modo a testar o modelo, a primeira ideia passou por comparar as *labels* geradas com as *labels* originais no conjunto de treino. Assim, como se pode ver em seguida, o modelo atribuiu os dados de forma próxima dos 50% para cada *cluster*, proporções bastante diferentes do real."
   ]
  },
  {
   "cell_type": "code",
   "execution_count": 13,
   "metadata": {
    "scrolled": true
   },
   "outputs": [
    {
     "name": "stdout",
     "output_type": "stream",
     "text": [
      "Labels reais de valor 1: 5050\n",
      "Labels reais de valor 2: 1515\n",
      "Cluster de valor 0: 3360\n",
      "Cluster de valor 1: 3205\n"
     ]
    }
   ],
   "source": [
    "train_preds = model.predict(X_train)\n",
    "print('Labels reais de valor 1:', sum(Y_train == 1))\n",
    "print('Labels reais de valor 2:',sum(Y_train == 2))\n",
    "print('Cluster de valor 0:', sum(train_preds == 0))\n",
    "print('Cluster de valor 1:', sum(train_preds == 1))"
   ]
  },
  {
   "cell_type": "markdown",
   "metadata": {},
   "source": [
    "Apesar destas proporções estarem bastante distantes do pretendido, vale sempre a pena verificar o que acontece com o conjunto de teste. Como se pode ver em seguida, o modelo classificou todos os sistemas como sendo pertencentes ao *cluster* 0, ou seja, este *cluster* representa a classe maioritária do problema."
   ]
  },
  {
   "cell_type": "code",
   "execution_count": 14,
   "metadata": {},
   "outputs": [
    {
     "name": "stdout",
     "output_type": "stream",
     "text": [
      "Labels reais de valor 1: 565\n",
      "Labels reais de valor 2: 5\n",
      "Cluster de valor 0: 570\n",
      "Cluster de valor 1: 0\n"
     ]
    }
   ],
   "source": [
    "y_pred = model.predict(X_test)\n",
    "print('Labels reais de valor 1:', sum(Y_test == 1))\n",
    "print('Labels reais de valor 2:',sum(Y_test == 2))\n",
    "print('Cluster de valor 0:', sum(y_pred == 0))\n",
    "print('Cluster de valor 1:', sum(y_pred == 1))"
   ]
  },
  {
   "cell_type": "markdown",
   "metadata": {},
   "source": [
    "Em jeito de conclusão, para o problema em estudo, este algoritmo não é o mais apropriado. Isto deve-se ao facto de este não comparar valores vizinhos, ou seja, se duas séries temporais tiveram o mesmo valor de ponto máximo, mas em momentos distintos do tempo, eles não serão considerados como semelhantes. Assim, é necessária alguma tolerância temporal, podendo esta vir da utilização de algortimos apropriados ou do uso de métricas de *DTW* para comparar os registos."
   ]
  },
  {
   "cell_type": "code",
   "execution_count": null,
   "metadata": {},
   "outputs": [],
   "source": []
  }
 ],
 "metadata": {
  "kernelspec": {
   "display_name": "Python 3",
   "language": "python",
   "name": "python3"
  },
  "language_info": {
   "codemirror_mode": {
    "name": "ipython",
    "version": 3
   },
   "file_extension": ".py",
   "mimetype": "text/x-python",
   "name": "python",
   "nbconvert_exporter": "python",
   "pygments_lexer": "ipython3",
   "version": "3.7.4"
  }
 },
 "nbformat": 4,
 "nbformat_minor": 2
}
