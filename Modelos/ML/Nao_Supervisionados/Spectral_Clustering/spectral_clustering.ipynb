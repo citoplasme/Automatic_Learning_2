{
 "cells": [
  {
   "cell_type": "markdown",
   "metadata": {},
   "source": [
    "# Projeto de Aprendizagem Automática II"
   ]
  },
  {
   "cell_type": "markdown",
   "metadata": {},
   "source": [
    "## Procura de Exoplanetas no Espaço através da Emissão de Luz de Estrelas"
   ]
  },
  {
   "cell_type": "markdown",
   "metadata": {},
   "source": [
    "### Importação de Bibliotecas"
   ]
  },
  {
   "cell_type": "code",
   "execution_count": 1,
   "metadata": {},
   "outputs": [],
   "source": [
    "import pandas as pd \n",
    "import numpy as np  \n",
    "\n",
    "import matplotlib            \n",
    "import matplotlib.pyplot as plt\n",
    "\n",
    "import seaborn as sns        \n",
    "color = sns.color_palette()\n",
    "sns.set_style('darkgrid')\n",
    "\n",
    "import os\n",
    "\n",
    "from random import randint\n",
    "from scipy.stats import randint as sp_randint\n",
    "\n",
    "from time import time\n",
    "from datetime import datetime\n",
    "\n",
    "import sklearn               \n",
    "from sklearn import metrics\n",
    "from sklearn.tree import DecisionTreeClassifier\n",
    "from sklearn.ensemble import RandomForestClassifier, ExtraTreesClassifier\n",
    "from sklearn.model_selection import train_test_split, StratifiedShuffleSplit, RandomizedSearchCV\n",
    "from sklearn.feature_selection import SelectKBest, VarianceThreshold, chi2\n",
    "\n",
    "from warnings import simplefilter\n",
    "\n",
    "%matplotlib inline\n",
    "simplefilter(action='ignore', category=FutureWarning)"
   ]
  },
  {
   "cell_type": "markdown",
   "metadata": {},
   "source": [
    "### Carregamento dos Dados"
   ]
  },
  {
   "cell_type": "markdown",
   "metadata": {},
   "source": [
    "O primeiro passo para a implementação do modelo é o carregamento dos dados."
   ]
  },
  {
   "cell_type": "code",
   "execution_count": 2,
   "metadata": {},
   "outputs": [],
   "source": [
    "treino = pd.read_csv(\"../../../../Dados/dados_treino.csv\")\n",
    "teste = pd.read_csv(\"../../../../Dados/dados_teste.csv\")"
   ]
  },
  {
   "cell_type": "markdown",
   "metadata": {},
   "source": [
    "Em seguida, é necessário efetuar a divisão entre *features* e *labels*."
   ]
  },
  {
   "cell_type": "code",
   "execution_count": 3,
   "metadata": {},
   "outputs": [],
   "source": [
    "X_train = treino.loc[:, treino.columns != 'LABEL'].values\n",
    "Y_train = treino.LABEL.values\n",
    "\n",
    "X_test = teste.loc[:, teste.columns != 'LABEL'].values\n",
    "Y_test = teste.LABEL.values"
   ]
  },
  {
   "cell_type": "markdown",
   "metadata": {},
   "source": [
    "### Modelo"
   ]
  },
  {
   "cell_type": "markdown",
   "metadata": {},
   "source": [
    "Tirando proveito da biblioteca *sklearn*, é possível geral um modelo de *Spectral Clustering* com 2 *clusters*, igual ao número de classes existentes no conjunto de dados."
   ]
  },
  {
   "cell_type": "code",
   "execution_count": 25,
   "metadata": {},
   "outputs": [],
   "source": [
    "from sklearn.cluster import SpectralClustering\n",
    "model = SpectralClustering(n_clusters=2, eigen_solver='arpack', affinity=\"nearest_neighbors\")"
   ]
  },
  {
   "cell_type": "markdown",
   "metadata": {},
   "source": [
    "Assim, tratando-se de um algoritmo não supervisionado, este apenas recebe como argumento as *features* do conjunto de dados de treino."
   ]
  },
  {
   "cell_type": "code",
   "execution_count": 26,
   "metadata": {},
   "outputs": [
    {
     "data": {
      "text/plain": [
       "SpectralClustering(affinity='nearest_neighbors', assign_labels='kmeans',\n",
       "                   coef0=1, degree=3, eigen_solver='arpack', eigen_tol=0.0,\n",
       "                   gamma=1.0, kernel_params=None, n_clusters=2, n_init=10,\n",
       "                   n_jobs=None, n_neighbors=10, random_state=None)"
      ]
     },
     "execution_count": 26,
     "metadata": {},
     "output_type": "execute_result"
    }
   ],
   "source": [
    "model.fit(X_train)"
   ]
  },
  {
   "cell_type": "markdown",
   "metadata": {},
   "source": [
    "Observando os valores em seguida, é visível que o modelo classificou corretamente mais sistemas numa classe, retratando a realidade. Apesar disso, o número de sistemas que classificou por classe está longe do real."
   ]
  },
  {
   "cell_type": "code",
   "execution_count": 33,
   "metadata": {},
   "outputs": [
    {
     "name": "stdout",
     "output_type": "stream",
     "text": [
      "Sistemas da Label 1: 5050\n",
      "Sistemas da Label 2: 1515\n",
      "Sistemas associados ao cluster 0: 5951\n",
      "Sistemas associados ao cluster 1: 614\n"
     ]
    }
   ],
   "source": [
    "print('Sistemas da Label 1:', sum(Y_train == 1))\n",
    "print('Sistemas da Label 2:', sum(Y_train == 2))\n",
    "print('Sistemas associados ao cluster 0:', sum(model.labels_ == 0))\n",
    "print('Sistemas associados ao cluster 1:', sum(model.labels_ == 1))"
   ]
  },
  {
   "cell_type": "markdown",
   "metadata": {},
   "source": [
    "Em suma, tal como o modelo de *KMeans*, este modelo não parece ser apropriado para o problema em estudo, pelo que foi descartado."
   ]
  },
  {
   "cell_type": "code",
   "execution_count": null,
   "metadata": {},
   "outputs": [],
   "source": []
  }
 ],
 "metadata": {
  "kernelspec": {
   "display_name": "Python 3",
   "language": "python",
   "name": "python3"
  },
  "language_info": {
   "codemirror_mode": {
    "name": "ipython",
    "version": 3
   },
   "file_extension": ".py",
   "mimetype": "text/x-python",
   "name": "python",
   "nbconvert_exporter": "python",
   "pygments_lexer": "ipython3",
   "version": "3.7.4"
  }
 },
 "nbformat": 4,
 "nbformat_minor": 2
}
